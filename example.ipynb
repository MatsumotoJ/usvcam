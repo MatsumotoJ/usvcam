{
 "cells": [
  {
   "cell_type": "markdown",
   "metadata": {},
   "source": [
    "# Example codes for analyses with USVCAM\n",
    "*see also Chapter 4 in the user guide.*\n",
    "\n",
    "You can download example data from [here](https://doi.org/10.6084/m9.figshare.17121275.v1) (1.7 GB; test_data.zip)."
   ]
  },
  {
   "cell_type": "markdown",
   "metadata": {},
   "source": [
    "## importing the library"
   ]
  },
  {
   "cell_type": "code",
   "execution_count": null,
   "metadata": {},
   "outputs": [],
   "source": [
    "import usvcam.analysis"
   ]
  },
  {
   "cell_type": "markdown",
   "metadata": {},
   "source": [
    "## USV segmentation\n",
    "*Note: optimize USVSEG parameters (usvseg_prm.yaml) in advance using USVSEG GUI.*"
   ]
  },
  {
   "cell_type": "code",
   "execution_count": null,
   "metadata": {},
   "outputs": [],
   "source": [
    "data_dirs = ['./test_data/single_mouse',\n",
    "             './test_data/two_mice',]\n",
    "usvseg_prm_file = './misc/usvseg_prm.yaml'\n",
    "\n",
    "for data_dir in data_dirs:\n",
    "    usvcam.analysis.dat2wav(data_dir, 3)\n",
    "    usvcam.analysis.run_usvseg(data_dir, usvseg_prm_file)"
   ]
  },
  {
   "cell_type": "markdown",
   "metadata": {},
   "source": [
    "## Mic position calibration"
   ]
  },
  {
   "cell_type": "code",
   "execution_count": null,
   "metadata": {},
   "outputs": [],
   "source": [
    "data_dir = './test_data/single_mouse'\n",
    "usvcam.analysis.calib_with_voc(data_dir, outpath='./test_data/micpos.h5')"
   ]
  },
  {
   "cell_type": "markdown",
   "metadata": {},
   "source": [
    "## (Optional) An alternative way for Mic position calibration\n",
    "*This method does not require the tracking file (snout.csv), but ask user to manually specify the sound locations. In combination with the following sound localization video generation, this method is useful as a quick check of the sound localization performance during the intial setup of a system.*"
   ]
  },
  {
   "cell_type": "code",
   "execution_count": null,
   "metadata": {},
   "outputs": [],
   "source": [
    "data_dir = './test_data/single_mouse'\n",
    "usvcam.analysis.calib_with_voc(data_dir, mannual_mode=True, outpath='./test_data/micpos.h5')"
   ]
  },
  {
   "cell_type": "markdown",
   "metadata": {},
   "source": [
    "## (Optional) Creating a video to visualize USV localization"
   ]
  },
  {
   "cell_type": "code",
   "execution_count": null,
   "metadata": {},
   "outputs": [],
   "source": [
    "data_dir = './test_data/single_mouse'\n",
    "calibfile = './test_data/micpos.h5'\n",
    "usvcam.analysis.create_localization_video(data_dir, calibfile, color_eq=True)"
   ]
  },
  {
   "cell_type": "markdown",
   "metadata": {},
   "source": [
    "## Estimating parameters for USV assignment\n",
    "*This process takes hours. If you are using the test data and want to skip the process, download the result from [here](https://doi.org/10.6084/m9.figshare.17121275.v1) (assign_param.h5).*"
   ]
  },
  {
   "cell_type": "code",
   "execution_count": null,
   "metadata": {},
   "outputs": [],
   "source": [
    "data_dir = './test_data/single_mouse'\n",
    "calibfile = './test_data/micpos.h5'\n",
    "assignfile = './test_data/assign_param.h5'\n",
    "\n",
    "usvcam.analysis.estimate_assign_param([data_dir], [calibfile], assignfile, show_figs=True)"
   ]
  },
  {
   "cell_type": "markdown",
   "metadata": {},
   "source": [
    "## USV assignment"
   ]
  },
  {
   "cell_type": "code",
   "execution_count": null,
   "metadata": {},
   "outputs": [],
   "source": [
    "data_dir = './test_data/two_mice'\n",
    "calibfile = './test_data/micpos.h5'\n",
    "assignfile = './test_data/assign_param.h5'\n",
    "n_mice = 2\n",
    "\n",
    "usvcam.analysis.assign_vocalizations(data_dir, calibfile, assignfile, n_mice)"
   ]
  },
  {
   "cell_type": "markdown",
   "metadata": {},
   "source": [
    "## (Optional) Creating a video to visualize USV assignment"
   ]
  },
  {
   "cell_type": "code",
   "execution_count": null,
   "metadata": {},
   "outputs": [],
   "source": [
    "data_dir = './test_data/two_mice'\n",
    "calibfile = './test_data/micpos.h5'\n",
    "assignfile = './test_data/assign_param.h5'\n",
    "n_mice = 2\n",
    "\n",
    "usvcam.analysis.create_assignment_video(data_dir, n_mice, color_eq=True)"
   ]
  }
 ],
 "metadata": {
  "interpreter": {
   "hash": "3ee514cbc7115f1768c0bffe8bde7b11c91dab87d4ddc6d77cc2037962d60707"
  },
  "kernelspec": {
   "display_name": "Python 3.6.10 64-bit ('usvcam': conda)",
   "name": "python3"
  },
  "language_info": {
   "codemirror_mode": {
    "name": "ipython",
    "version": 3
   },
   "file_extension": ".py",
   "mimetype": "text/x-python",
   "name": "python",
   "nbconvert_exporter": "python",
   "pygments_lexer": "ipython3",
   "version": "3.6.10"
  },
  "orig_nbformat": 4
 },
 "nbformat": 4,
 "nbformat_minor": 2
}
